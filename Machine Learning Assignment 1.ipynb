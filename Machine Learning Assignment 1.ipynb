{
 "cells": [
  {
   "cell_type": "code",
   "execution_count": null,
   "metadata": {},
   "outputs": [],
   "source": [
    "1. What does one mean by the term \"machine learning\"?"
   ]
  },
  {
   "cell_type": "code",
   "execution_count": null,
   "metadata": {},
   "outputs": [],
   "source": [
    "The use and development of computer systems that are able to learn and adapt without following explicit \n",
    "instructions, by using algorithms and statistical models to analyse and draw inferences from patterns in \n",
    "data."
   ]
  },
  {
   "cell_type": "code",
   "execution_count": null,
   "metadata": {},
   "outputs": [],
   "source": [
    "2.Can you think of 4 distinct types of issues where it shines?"
   ]
  },
  {
   "cell_type": "code",
   "execution_count": null,
   "metadata": {},
   "outputs": [],
   "source": [
    "1. Predictive Analytics - Stock Market Forecasting, Market Research, Fraud Prevention\n",
    "2.Service Personalization - Recommender Engines, User Modeling\n",
    "3.Natural Language Processing - Text Generation, Text Analysis, Text Translation, Chatbots\n",
    "4.Computer Vision - Image Recognition, Visual Search, Face Recognition"
   ]
  },
  {
   "cell_type": "code",
   "execution_count": null,
   "metadata": {},
   "outputs": [],
   "source": [
    "3.What is a labeled training set, and how does it work?"
   ]
  },
  {
   "cell_type": "code",
   "execution_count": null,
   "metadata": {},
   "outputs": [],
   "source": [
    "Neural networks and other artificial intelligence programs require an initial set of data, \n",
    "called a training dataset, to act as a baseline for further application and utilization. This dataset is \n",
    "the foundation for the program’s growing library of information. The training dataset must be accurately \n",
    "labeled before the model can process and learn from it.\n",
    "Training data is used to train the model so it can give accurate outputs,when data is labelled it is \n",
    "supervised learning that is example classifying cats and dogs.We know the 2 output categories and hence \n",
    "training dataset contains outputs that are labelled that is cats and dogs."
   ]
  },
  {
   "cell_type": "code",
   "execution_count": null,
   "metadata": {},
   "outputs": [],
   "source": [
    "4.What are the two most important tasks that are supervised?"
   ]
  },
  {
   "cell_type": "code",
   "execution_count": null,
   "metadata": {},
   "outputs": [],
   "source": [
    "Supervised Learning tasks can be divided into two kinds: classification task and regression task. The\n",
    "output variables of classification task are categorical variables, and those of regression task are \n",
    "continuous variables. For example, current hot image classification is a classification task, and \n",
    "prediction of stock price is a regression task."
   ]
  },
  {
   "cell_type": "code",
   "execution_count": null,
   "metadata": {},
   "outputs": [],
   "source": [
    "5.Can you think of four examples of unsupervised tasks?"
   ]
  },
  {
   "cell_type": "code",
   "execution_count": null,
   "metadata": {},
   "outputs": [],
   "source": [
    "Customer segmentation, or understanding different customer groups around which to build marketing or other \n",
    "business strategies.\n",
    "Genetics, for example clustering DNA patterns to analyze evolutionary biology.\n",
    "Recommender systems, which involve grouping together users with similar viewing patterns in order to \n",
    "recommend similar content.\n",
    "Anomaly detection, including fraud detection or detecting defective mechanical parts (i.e., predictive \n",
    "maintenance).\n"
   ]
  },
  {
   "cell_type": "code",
   "execution_count": null,
   "metadata": {},
   "outputs": [],
   "source": [
    "6.State the machine learning model that would be best to make a robot walk through various unfamiliar\n",
    "terrains?"
   ]
  },
  {
   "cell_type": "code",
   "execution_count": null,
   "metadata": {},
   "outputs": [],
   "source": [
    "Unsupervised Machine Learning Model"
   ]
  },
  {
   "cell_type": "code",
   "execution_count": null,
   "metadata": {},
   "outputs": [],
   "source": [
    "7.Which algorithm will you use to divide your customers into different groups?"
   ]
  },
  {
   "cell_type": "code",
   "execution_count": null,
   "metadata": {},
   "outputs": [],
   "source": [
    "Unsupervised Machine Learning Model"
   ]
  },
  {
   "cell_type": "code",
   "execution_count": null,
   "metadata": {},
   "outputs": [],
   "source": [
    "8.Will you consider the problem of spam detection to be a supervised or unsupervised learning problem?"
   ]
  },
  {
   "cell_type": "code",
   "execution_count": null,
   "metadata": {},
   "outputs": [],
   "source": [
    "It is supervised learning problem."
   ]
  },
  {
   "cell_type": "code",
   "execution_count": null,
   "metadata": {},
   "outputs": [],
   "source": [
    "9.What is the concept of an online learning system?"
   ]
  },
  {
   "cell_type": "code",
   "execution_count": null,
   "metadata": {},
   "outputs": [],
   "source": [
    "Online machine learning is a method of machine learning in which data becomes available in a sequential \n",
    "order and is used to update the best predictor for future data at each step, as opposed to batch learning \n",
    "techniques which generate the best predictor by learning on the entire training data set at once. Online \n",
    "learning is a common technique used in areas of machine learning where it is computationally infeasible to\n",
    "train over the entire dataset, requiring the need of out-of-core algorithms. It is also used in situations \n",
    "where it is necessary for the algorithm to dynamically adapt to new patterns in the data, or when the data\n",
    "itself is generated as a function of time, e.g., stock price prediction.\n",
    "\n",
    "Online learning also requires an entirely different approach in terms of technical architecture. Since a\n",
    "model can, and will, change from second to second, you can’t just instantiate several instances like you \n",
    "can with traditional techniques."
   ]
  },
  {
   "cell_type": "code",
   "execution_count": null,
   "metadata": {},
   "outputs": [],
   "source": [
    "10.What is out-of-core learning, and how does it differ from core learning?"
   ]
  },
  {
   "cell_type": "code",
   "execution_count": null,
   "metadata": {},
   "outputs": [],
   "source": [
    "The term out-of-core typically refers to processing data that is too large to fit into a computer’s main \n",
    "memory.\n",
    "When data must be stored in a medium like a large spinning hard drive or an external computer network, \n",
    "it becomes very expensive to randomly seek to an arbitrary section of data or to process the same data \n",
    "multiple times.\n",
    "\n",
    "In such a case, an out-of-core algorithm would try to access all relevant data in one sequence.In core \n",
    "learning thendata maybe shuffled and accessed randomly."
   ]
  },
  {
   "cell_type": "code",
   "execution_count": null,
   "metadata": {},
   "outputs": [],
   "source": [
    "11.What kind of learning algorithm makes predictions using a similarity measure?"
   ]
  },
  {
   "cell_type": "code",
   "execution_count": null,
   "metadata": {},
   "outputs": [],
   "source": [
    "Learning algorithm that relies on a similarity measure to make predictions is instance-based algorithm."
   ]
  },
  {
   "cell_type": "code",
   "execution_count": null,
   "metadata": {},
   "outputs": [],
   "source": [
    "12.What's the difference between a model parameter and a hyperparameter in a learning algorithm?"
   ]
  },
  {
   "cell_type": "code",
   "execution_count": null,
   "metadata": {},
   "outputs": [],
   "source": [
    "Model parameters are estimated based on the data during model training and model hyperparameters are set \n",
    "manually and are used in processes to help estimate model parameters.\n",
    "Model hyperparameters are often referred to as parameters because they are the parts of the machine \n",
    "learning that must be set manually and tuned.\n",
    "Basically, parameters are the ones that the “model” uses to make predictions etc. For example, the weigh\n",
    "coefficients in a linear regression model. Hyperparameters are the ones that help with the learning \n",
    "process. For example, number of clusters in K-Means, shrinkage factor in Ridge Regression. They won’t\n",
    "appear in the final prediction piece, but they have a large influence on how the parameters would look \n",
    "like after the learning step."
   ]
  },
  {
   "cell_type": "code",
   "execution_count": null,
   "metadata": {},
   "outputs": [],
   "source": [
    "13.What are the criteria that model-based learning algorithms look for? What is the most popular method\n",
    "they use to achieve success? What method do they use to make predictions?"
   ]
  },
  {
   "cell_type": "code",
   "execution_count": null,
   "metadata": {},
   "outputs": [],
   "source": [
    "Model based learning algorithm search for the optimal value of parameters in a model that will give the\n",
    "best results for the new instances. We often use a cost function or similar to determine what the\n",
    "parameter value has to be in order to minimize the function. The model makes prediction by using the \n",
    "value of the new instance and the parameters in its function."
   ]
  },
  {
   "cell_type": "code",
   "execution_count": null,
   "metadata": {},
   "outputs": [],
   "source": [
    "14.Can you name four of the most important Machine Learning challenges?"
   ]
  },
  {
   "cell_type": "code",
   "execution_count": null,
   "metadata": {},
   "outputs": [],
   "source": [
    "Four main challenges in Machine Learning include overfitting the data (using a model too complicated),\n",
    "underfitting the data (using a simple model), lacking in data and nonrepresentative data."
   ]
  },
  {
   "cell_type": "code",
   "execution_count": null,
   "metadata": {},
   "outputs": [],
   "source": [
    "15.What happens if the model performs well on the training data but fails to generalize the results to \n",
    "new situations? Can you think of three different options?"
   ]
  },
  {
   "cell_type": "code",
   "execution_count": null,
   "metadata": {},
   "outputs": [],
   "source": [
    "If the model performs poorly to new instances, then it has overfit on the training data. To solve this,\n",
    "we can do any of the following three: get more data, implement a simpler model, or eliminate outliers \n",
    "or noise from the existing data set or by using cross validation."
   ]
  },
  {
   "cell_type": "code",
   "execution_count": null,
   "metadata": {},
   "outputs": [],
   "source": [
    "16.What exactly is a test set, and why would you need one?"
   ]
  },
  {
   "cell_type": "code",
   "execution_count": null,
   "metadata": {},
   "outputs": [],
   "source": [
    "Test set is a set that you test your model (fit using training data) to see how it performs. Test set \n",
    "is necessary so that you can determine how good (or bad) your model performs (shows accuracy).Test set \n",
    "is not seen previously by our model hence it shows how well our model performs."
   ]
  },
  {
   "cell_type": "code",
   "execution_count": null,
   "metadata": {},
   "outputs": [],
   "source": [
    "17.What is a validation set's purpose?"
   ]
  },
  {
   "cell_type": "code",
   "execution_count": null,
   "metadata": {},
   "outputs": [],
   "source": [
    "Validation set is a set used to compare between different training models.\n",
    "The sample of data used to provide an unbiased evaluation of a model fiton the training dataset while \n",
    "tuning model hyperparameters."
   ]
  },
  {
   "cell_type": "code",
   "execution_count": null,
   "metadata": {},
   "outputs": [],
   "source": [
    "18.What can go wrong if you tune hyperparameters using the test set?"
   ]
  },
  {
   "cell_type": "code",
   "execution_count": null,
   "metadata": {},
   "outputs": [],
   "source": [
    "If you tune hyperparameters using the test sets, then it may not perform well on the out-of-sample data\n",
    "because the model is tuned just for that specific set."
   ]
  },
  {
   "cell_type": "code",
   "execution_count": null,
   "metadata": {},
   "outputs": [],
   "source": []
  }
 ],
 "metadata": {
  "kernelspec": {
   "display_name": "Python 3",
   "language": "python",
   "name": "python3"
  },
  "language_info": {
   "codemirror_mode": {
    "name": "ipython",
    "version": 3
   },
   "file_extension": ".py",
   "mimetype": "text/x-python",
   "name": "python",
   "nbconvert_exporter": "python",
   "pygments_lexer": "ipython3",
   "version": "3.8.3"
  }
 },
 "nbformat": 4,
 "nbformat_minor": 4
}
